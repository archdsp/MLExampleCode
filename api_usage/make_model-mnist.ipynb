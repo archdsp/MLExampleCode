{
 "cells": [
  {
   "attachments": {},
   "cell_type": "markdown",
   "metadata": {},
   "source": [
    "# Keras API\n",
    "## Sequential"
   ]
  },
  {
   "cell_type": "code",
   "execution_count": 10,
   "metadata": {},
   "outputs": [
    {
     "name": "stdout",
     "output_type": "stream",
     "text": [
      "Model: \"sequential_1\"\n",
      "_________________________________________________________________\n",
      " Layer (type)                Output Shape              Param #   \n",
      "=================================================================\n",
      " conv2d_17 (Conv2D)          (None, 26, 26, 32)        320       \n",
      "                                                                 \n",
      " conv2d_18 (Conv2D)          (None, 24, 24, 64)        18496     \n",
      "                                                                 \n",
      " flatten_8 (Flatten)         (None, 36864)             0         \n",
      "                                                                 \n",
      " dense_16 (Dense)            (None, 128)               4718720   \n",
      "                                                                 \n",
      " dense_17 (Dense)            (None, 10)                1290      \n",
      "                                                                 \n",
      "=================================================================\n",
      "Total params: 4,738,826\n",
      "Trainable params: 4,738,826\n",
      "Non-trainable params: 0\n",
      "_________________________________________________________________\n"
     ]
    }
   ],
   "source": [
    "import tensorflow as tf\n",
    "from tensorflow import keras\n",
    "\n",
    "model = keras.Sequential()\n",
    "model.add(keras.layers.Conv2D(32, (3, 3), activation=\"relu\", input_shape=(28, 28, 1)))\n",
    "model.add(keras.layers.Conv2D(64, (3, 3), activation=\"relu\", input_shape=(28, 28, 1)))\n",
    "model.add(keras.layers.Flatten())\n",
    "model.add(keras.layers.Dense(128, activation=\"relu\"))\n",
    "model.add(keras.layers.Dense(10, activation=\"softmax\"))\n",
    "\n",
    "model.summary()"
   ]
  },
  {
   "attachments": {},
   "cell_type": "markdown",
   "metadata": {},
   "source": [
    "## Functional"
   ]
  },
  {
   "cell_type": "code",
   "execution_count": 12,
   "metadata": {},
   "outputs": [
    {
     "name": "stdout",
     "output_type": "stream",
     "text": [
      "Model: \"model_2\"\n",
      "_________________________________________________________________\n",
      " Layer (type)                Output Shape              Param #   \n",
      "=================================================================\n",
      " input_6 (InputLayer)        [(None, 28, 28, 1)]       0         \n",
      "                                                                 \n",
      " conv2d_21 (Conv2D)          (None, 26, 26, 32)        320       \n",
      "                                                                 \n",
      " conv2d_22 (Conv2D)          (None, 24, 24, 64)        18496     \n",
      "                                                                 \n",
      " flatten_10 (Flatten)        (None, 36864)             0         \n",
      "                                                                 \n",
      " dense_20 (Dense)            (None, 128)               4718720   \n",
      "                                                                 \n",
      " dense_21 (Dense)            (None, 10)                1290      \n",
      "                                                                 \n",
      "=================================================================\n",
      "Total params: 4,738,826\n",
      "Trainable params: 4,738,826\n",
      "Non-trainable params: 0\n",
      "_________________________________________________________________\n"
     ]
    }
   ],
   "source": [
    "input = keras.Input(shape=(28, 28, 1))\n",
    "x = keras.layers.Conv2D(32, (3, 3), activation=\"relu\")(input)\n",
    "x = keras.layers.Conv2D(64, (3, 3), activation=\"relu\")(x)\n",
    "x = keras.layers.Flatten()(x)\n",
    "x = keras.layers.Dense(128, activation=\"relu\")(x)\n",
    "predictions = keras.layers.Dense(10, activation=\"softmax\")(x)\n",
    "model = keras.Model(inputs=input, outputs=predictions)\n",
    "model.summary()"
   ]
  },
  {
   "attachments": {},
   "cell_type": "markdown",
   "metadata": {},
   "source": [
    "# Inheritance\n"
   ]
  },
  {
   "cell_type": "code",
   "execution_count": 9,
   "metadata": {},
   "outputs": [
    {
     "name": "stdout",
     "output_type": "stream",
     "text": [
      "Model: \"model\"\n",
      "_________________________________________________________________\n",
      " Layer (type)                Output Shape              Param #   \n",
      "=================================================================\n",
      " input_4 (InputLayer)        [(None, 28, 28, 1)]       0         \n",
      "                                                                 \n",
      " conv2d_15 (Conv2D)          (None, 26, 26, 32)        320       \n",
      "                                                                 \n",
      " conv2d_16 (Conv2D)          (None, 24, 24, 64)        18496     \n",
      "                                                                 \n",
      " flatten_7 (Flatten)         (None, 36864)             0         \n",
      "                                                                 \n",
      " dense_14 (Dense)            (None, 128)               4718720   \n",
      "                                                                 \n",
      " dense_15 (Dense)            (None, 10)                1290      \n",
      "                                                                 \n",
      "=================================================================\n",
      "Total params: 4,738,826\n",
      "Trainable params: 4,738,826\n",
      "Non-trainable params: 0\n",
      "_________________________________________________________________\n"
     ]
    }
   ],
   "source": [
    "class SimpleCNN(keras.Model):\n",
    "    \"\"\"\n",
    "    Spec:\n",
    "    0. keras.Model 을 상속받았으며, __init__()와 call() 메서드를 가진 모델 클래스\n",
    "    1. 32개의 채널을 가지고, 커널의 크기가 3, activation function이 relu인 Conv2D 레이어\n",
    "    2. 64개의 채널을 가지고, 커널의 크기가 3, activation function이 relu인 Conv2D 레이어\n",
    "    3. Flatten 레이어\n",
    "    4. 128개의 아웃풋 노드를 가지고, activation function이 relu인 Fully-Connected Layer(Dense)\n",
    "    5. 데이터셋의 클래스 개수에 맞는 아웃풋 노드를 가지고, activation function이 softmax인 Fully-Connected Layer(Dense)\n",
    "    6. call의 입력값이 모델의 Input, call의 리턴값이 모델의 Output\n",
    "    \"\"\"\n",
    "    def __init__(self):\n",
    "        super(SimpleCNN, self).__init__()\n",
    "        self.conv2d1 = keras.layers.Conv2D(32, (3, 3), activation=\"relu\")\n",
    "        self.conv2d2 = keras.layers.Conv2D(64, (3, 3), activation=\"relu\")\n",
    "        self.flatten = keras.layers.Flatten()\n",
    "        self.dense = keras.layers.Dense(128, activation=\"relu\")\n",
    "        self.final = keras.layers.Dense(10, activation=\"relu\")\n",
    "\n",
    "    def call(self, x):\n",
    "        x = self.conv2d1(x)\n",
    "        x = self.conv2d2(x)\n",
    "        x = self.flatten(x)\n",
    "        x = self.dense(x)\n",
    "        return self.final(x)\n",
    "\n",
    "    def summary(self):\n",
    "        x = keras.Input(shape = (28,28,1))\n",
    "        model = keras.Model(inputs=[x], outputs = self.call(x))\n",
    "        return model.summary()\n",
    "\n",
    "\n",
    "model = SimpleCNN()\n",
    "model.summary()"
   ]
  }
 ],
 "metadata": {
  "kernelspec": {
   "display_name": ".venv",
   "language": "python",
   "name": "python3"
  },
  "language_info": {
   "codemirror_mode": {
    "name": "ipython",
    "version": 3
   },
   "file_extension": ".py",
   "mimetype": "text/x-python",
   "name": "python",
   "nbconvert_exporter": "python",
   "pygments_lexer": "ipython3",
   "version": "3.11.3"
  },
  "orig_nbformat": 4
 },
 "nbformat": 4,
 "nbformat_minor": 2
}
