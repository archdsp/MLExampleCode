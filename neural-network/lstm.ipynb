{
 "cells": [
  {
   "cell_type": "code",
   "execution_count": 1,
   "metadata": {},
   "outputs": [],
   "source": [
    "import numpy as np\n",
    "\n",
    "# 샘플 데이터 생성 (32개의 샘플, 10일간의 데이터, 각 날마다 시가, 고가, 종가)\n",
    "x_stock = np.random.random((32, 10, 3))  # (batch_size, timesteps, features)\n",
    "\n",
    "# 각 샘플에 대해 1개의 출력 (다음 날의 종가 예측)\n",
    "y_stock = np.random.random((32, 1))  # (batch_size, 1)\n"
   ]
  },
  {
   "cell_type": "code",
   "execution_count": null,
   "metadata": {},
   "outputs": [],
   "source": [
    "from tensorflow.keras.layers import LSTM\n",
    "import numpy as np\n",
    "\n",
    "# 입력 데이터 shape: (batch_size, timesteps, input_dim)\n",
    "x = np.random.random((32, 10, 8))  # 32개의 샘플, 10개의 타임스텝, 각 타임스텝에 8개의 입력\n",
    "\n",
    "# LSTM 층 정의, return_state=True\n",
    "lstm_layer = LSTM(units=64, return_sequences=False, return_state=True)\n",
    "output, h_state, c_state = lstm_layer(x)\n",
    "\n",
    "# 출력 shape\n",
    "print(output.shape)  # (32, 64) - 마지막 타임스텝의 은닉 상태\n",
    "print(h_state.shape) # (32, 64) - 마지막 타임스텝의 은닉 상태\n",
    "print(c_state.shape) # (32, 64) - 마지막 타임스텝의 셀 상태\n"
   ]
  }
 ],
 "metadata": {
  "kernelspec": {
   "display_name": ".venv",
   "language": "python",
   "name": "python3"
  },
  "language_info": {
   "codemirror_mode": {
    "name": "ipython",
    "version": 3
   },
   "file_extension": ".py",
   "mimetype": "text/x-python",
   "name": "python",
   "nbconvert_exporter": "python",
   "pygments_lexer": "ipython3",
   "version": "3.12.3"
  }
 },
 "nbformat": 4,
 "nbformat_minor": 2
}
