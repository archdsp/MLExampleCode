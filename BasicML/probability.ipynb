{
 "cells": [
  {
   "attachments": {},
   "cell_type": "markdown",
   "metadata": {},
   "source": [
    "# 확률 밀도 함수(Probability density function)와 확률 질량 함수(Probability mass function)\n",
    "## 밀도\n",
    "차원에 따른 밀도는 다음과 같이 구한다.\n",
    "$$\n",
    "\\begin{align}\n",
    "& \\text{3차원의 밀도} \\\\\n",
    "& \\rho_3 = \\frac{mass}{volume} \\\\\n",
    "& \\text{2차원의 밀도} \\\\\n",
    "& \\rho_2 = \\frac{mass}{area} \\\\\n",
    "& \\text{1차원의 밀도} \\\\\n",
    "& \\rho_1 = \\frac{mass}{length} \\\\\n",
    "\\end{align}\n",
    "$$\n",
    "\n",
    "### 질점\n",
    "부피가 없는 물체의 질량이 모여 있다고 생각하는 점으로 어떤 무게중심에 전체의 무게가 집중되어있다고 가정했을 떄 순수하게\n",
    "무게만 존재하는 부피 없는 매우 작은 점\n",
    "즉 0차원 상의 점\n",
    "\n",
    "## [통계와 무슨 관련이 있나?](https://youtu.be/_jG3FQkprgo)\n",
    "확률의 분포를 그렸을 때 구간의 확률을 구하는 연속확률 분포가 아래와 같이 질량구하는 수식가 같아서 질량이라는 말을 끌어다 쓰게 됨\n",
    "![](../docs_images/pdf_step_1.png)"
   ]
  }
 ],
 "metadata": {
  "kernelspec": {
   "display_name": ".venv",
   "language": "python",
   "name": "python3"
  },
  "language_info": {
   "name": "python",
   "version": "3.11.3"
  },
  "orig_nbformat": 4
 },
 "nbformat": 4,
 "nbformat_minor": 2
}
