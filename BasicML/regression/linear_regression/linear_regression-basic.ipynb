{
  "cells": [
    {
      "cell_type": "markdown",
      "metadata": {
        "colab_type": "text",
        "id": "view-in-github"
      },
      "source": [
        "<a href=\"https://colab.research.google.com/github/archdsp/MLExampleCode/blob/master/%EC%8B%A4%EC%8A%B5%EC%9E%90%EB%A3%8C02_%EC%84%A0%ED%98%95_%ED%9A%8C%EA%B7%80.ipynb\" target=\"_parent\"><img src=\"https://colab.research.google.com/assets/colab-badge.svg\" alt=\"Open In Colab\"/></a>"
      ]
    },
    {
      "cell_type": "markdown",
      "metadata": {
        "id": "jZ9PmT_1hL8n"
      },
      "source": [
        "# 선형 회귀"
      ]
    },
    {
      "cell_type": "markdown",
      "metadata": {
        "id": "6sgKh_jtiecH"
      },
      "source": [
        "## 1. Python 패키지 Import"
      ]
    },
    {
      "cell_type": "markdown",
      "metadata": {
        "id": "ie2L7Xl4iHYp"
      },
      "source": [
        "`numpy`와 `pyplot`을 사용하기 위해 패키지를 import 한다."
      ]
    },
    {
      "cell_type": "code",
      "execution_count": null,
      "metadata": {
        "id": "w19Lcx6LhM2V"
      },
      "outputs": [],
      "source": [
        "import matplotlib.pyplot as plt\n",
        "import numpy as np"
      ]
    },
    {
      "cell_type": "markdown",
      "metadata": {
        "id": "Ynk563M4ijfq"
      },
      "source": [
        "## 2. 샘플 데이터 생성"
      ]
    },
    {
      "cell_type": "markdown",
      "metadata": {
        "id": "uo1_Jke-hsBM"
      },
      "source": [
        "선형 회귀 분석을 위해 선형성을 갖는 임의의 데이터를 생성하고자 한다.\n",
        "\n",
        "numpy를 이용해 150~180 값 100개를 랜덤으로 생성하고 아래 1차함수 식에 따라 y값 100개를 만든다.\n",
        "\n",
        "$$\n",
        "y = 1.5x - 180\n",
        "$$\n",
        "\n",
        "오차를 만들기 위해서 y값에 랜덤한 값을 더한다."
      ]
    },
    {
      "cell_type": "code",
      "execution_count": null,
      "metadata": {
        "colab": {
          "base_uri": "https://localhost:8080/",
          "height": 283
        },
        "id": "2iUMClP6hp8F",
        "outputId": "34ec91e8-4559-41c4-fdde-a7dc0d3bd9db"
      },
      "outputs": [
        {
          "data": {
            "text/plain": [
              "<matplotlib.collections.PathCollection at 0x7f1ef75a2ed0>"
            ]
          },
          "execution_count": 5,
          "metadata": {},
          "output_type": "execute_result"
        },
        {
          "data": {
            "image/png": "[encoded data removed]",
            "text/plain": [
              "<Figure size 432x288 with 1 Axes>"
            ]
          },
          "metadata": {
            "needs_background": "light"
          },
          "output_type": "display_data"
        }
      ],
      "source": [
        "rng = np.random.RandomState(1)\n",
        "\n",
        "# 랜덤으로 150~180 값 100개를 생성\n",
        "x = 30 * rng.rand(100) + 150\n",
        "\n",
        "# 일차함수 \"y = 1.5x - 180\" 적용\n",
        "y = 1.5 * x - 180\n",
        "\n",
        "# y값에 랜덤한 오차 값 만큼 더함\n",
        "y = y + rng.randn(100)\n",
        "\n",
        "# x, y 그래프 출력\n",
        "plt.scatter(x, y)"
      ]
    },
    {
      "cell_type": "markdown",
      "metadata": {
        "id": "f4UiE4KQi8VL"
      },
      "source": [
        "## 3. 선형 회귀 분석\n",
        "\n",
        "위에서 생성된 데이터 `x`, `y`를 sklearn을 이용해 선형 회귀 분석 한다."
      ]
    },
    {
      "cell_type": "code",
      "execution_count": null,
      "metadata": {
        "colab": {
          "base_uri": "https://localhost:8080/",
          "height": 301
        },
        "id": "64H-6ymshtgV",
        "outputId": "4c17aff3-3adb-4509-c1a4-54f422c8c1d3"
      },
      "outputs": [
        {
          "name": "stdout",
          "output_type": "stream",
          "text": [
            "기울기 : [1.4894975]\n",
            "절편 : -178.1876681841277\n"
          ]
        },
        {
          "data": {
            "image/png": "[encoded data removed]",
            "text/plain": [
              "<Figure size 432x288 with 1 Axes>"
            ]
          },
          "metadata": {
            "needs_background": "light"
          },
          "output_type": "display_data"
        }
      ],
      "source": [
        "from sklearn.linear_model import LinearRegression\n",
        "\n",
        "# LinearRegression 모델 생성\n",
        "model = LinearRegression(fit_intercept=True)\n",
        "\n",
        "# x, y를 넣고 모델 학습, 결과 출력\n",
        "model.fit(x[:, np.newaxis], y)\n",
        "print(f\"기울기 : {model.coef_}\")\n",
        "print(f\"절편 : {model.intercept_}\")\n",
        "\n",
        "# 150~180 값 1000개 생성, 모델에 입력하고 예측값 확인\n",
        "xfit = np.linspace(150, 180, 1000)\n",
        "yfit = model.predict(xfit[:, np.newaxis])\n",
        "\n",
        "# 랜덤값과 LinearRegression결과 출력\n",
        "plt.scatter(x, y)\n",
        "plt.plot(xfit, yfit, color=\"red\");"
      ]
    },
    {
      "cell_type": "markdown",
      "metadata": {
        "id": "tf2Xx3gAjPFs"
      },
      "source": [
        "## 4. 결과\n",
        "\n",
        "위에서 임의로 생성한 `x`, `y`값에 대한 선형회귀 분석 결과 값을 확인 할 수 있다.\n",
        "\n",
        "기울기 `1.5`, 절편 `-180`에 근사한 값을 결과로 확인 할 수 있다.\n",
        "\n",
        "샘플 데이터가 $ y = 1.5x - 180 $ 에 따라 생성되었기 때문에 정답과 근사한 값을 확인 할 수 있다."
      ]
    },
    {
      "cell_type": "markdown",
      "metadata": {
        "id": "o6N_BdT7jkZJ"
      },
      "source": [
        "## 5. 실습\n",
        "\n",
        "아래는 $ y = -3x + 200 $에 대한 데이터를 생성하고 있다.\n",
        "\n",
        "빈칸을 채워서 회귀분석 결과를 확인 하시오."
      ]
    },
    {
      "cell_type": "code",
      "execution_count": null,
      "metadata": {
        "colab": {
          "base_uri": "https://localhost:8080/",
          "height": 265
        },
        "id": "5CtAMnjLhuze",
        "outputId": "d7940eb6-2604-4e3e-eee9-61319f5e8e9d"
      },
      "outputs": [
        {
          "data": {
            "image/png": "[encoded data removed]",
            "text/plain": [
              "<Figure size 432x288 with 1 Axes>"
            ]
          },
          "metadata": {
            "needs_background": "light"
          },
          "output_type": "display_data"
        }
      ],
      "source": [
        "import matplotlib.pyplot as plt\n",
        "import numpy as np\n",
        "from sklearn.linear_model import LinearRegression\n",
        "\n",
        "rng = np.random.RandomState(1)\n",
        "\n",
        "x = 100 * rng.rand(100) + 200\n",
        "y = -3 * x + 200\n",
        "y = y + (rng.randn(100) * 30)\n",
        "\n",
        "# x, y 그래프 출력\n",
        "plt.scatter(x, y)\n",
        "\n",
        "# LinearRegression 모델 생성\n",
        "model = LinearRegression(fit_intercept=True)\n",
        "\n",
        "# x, y를 넣고 모델 학습, 결과 출력\n",
        "model.fit(x[:, np.newaxis], y)\n",
        "\n",
        "xfit = np.linspace(200, 300, 1000)\n",
        "yfit = model.predict(xfit[:, np.newaxis])\n",
        "\n",
        "# 그래프 출력\n",
        "plt.plot(xfit, yfit, color=\"red\")ㅣ"
      ]
    },
    {
      "cell_type": "code",
      "execution_count": null,
      "metadata": {
        "colab": {
          "base_uri": "https://localhost:8080/"
        },
        "id": "qqzMIoz2hvye",
        "outputId": "88c4da7c-afc8-4329-e8cc-e83df0cfb283"
      },
      "outputs": [
        {
          "data": {
            "text/plain": [
              "(100,)"
            ]
          },
          "execution_count": 9,
          "metadata": {},
          "output_type": "execute_result"
        }
      ],
      "source": [
        "x.shape"
      ]
    },
    {
      "cell_type": "code",
      "execution_count": null,
      "metadata": {
        "id": "PLHyvGtO-_S7"
      },
      "outputs": [],
      "source": []
    }
  ],
  "metadata": {
    "colab": {
      "include_colab_link": true,
      "provenance": []
    },
    "kernelspec": {
      "display_name": "Python 3.11.3 ('.venv': venv)",
      "language": "python",
      "name": "python3"
    },
    "language_info": {
      "name": "python",
      "version": "3.11.3"
    },
    "vscode": {
      "interpreter": {
        "hash": "2402d20b18b5ecc8b646c67fbbdeff4ca6ac76bfb47beb09a3e0912bc3b9212b"
      }
    }
  },
  "nbformat": 4,
  "nbformat_minor": 0
}
