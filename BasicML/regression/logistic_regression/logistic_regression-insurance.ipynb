{
  "cells": [
    {
      "cell_type": "markdown",
      "metadata": {
        "id": "Hpe9jGzVW04H"
      },
      "source": [
        "# 필요한 패키지 import"
      ]
    },
    {
      "cell_type": "code",
      "execution_count": 2,
      "metadata": {
        "id": "f-7ipL16cqv0"
      },
      "outputs": [],
      "source": [
        "import numpy as np\n",
        "import matplotlib.pyplot as plt\n",
        "import pandas as pd\n",
        "import math"
      ]
    },
    {
      "cell_type": "markdown",
      "metadata": {
        "id": "Y4U0j1orTQ6r"
      },
      "source": [
        "# 데이터 로드 및 확인\n",
        "\n",
        "1338개의 사람에 대해서 7가지 컬럼 정보를 확인 할 수 있습니다."
      ]
    },
    {
      "cell_type": "code",
      "execution_count": 3,
      "metadata": {
        "colab": {
          "base_uri": "https://localhost:8080/",
          "height": 497
        },
        "id": "tnFx1LpOc2F_",
        "outputId": "54e94dc1-7e69-43a0-a205-f8a6b186dee7"
      },
      "outputs": [
        {
          "data": {
            "text/html": [
              "<div>\n",
              "<style scoped>\n",
              "    .dataframe tbody tr th:only-of-type {\n",
              "        vertical-align: middle;\n",
              "    }\n",
              "\n",
              "    .dataframe tbody tr th {\n",
              "        vertical-align: top;\n",
              "    }\n",
              "\n",
              "    .dataframe thead th {\n",
              "        text-align: right;\n",
              "    }\n",
              "</style>\n",
              "<table border=\"1\" class=\"dataframe\">\n",
              "  <thead>\n",
              "    <tr style=\"text-align: right;\">\n",
              "      <th></th>\n",
              "      <th>age</th>\n",
              "      <th>sex</th>\n",
              "      <th>bmi</th>\n",
              "      <th>children</th>\n",
              "      <th>smoker</th>\n",
              "      <th>region</th>\n",
              "      <th>charges</th>\n",
              "    </tr>\n",
              "  </thead>\n",
              "  <tbody>\n",
              "    <tr>\n",
              "      <th>0</th>\n",
              "      <td>19</td>\n",
              "      <td>female</td>\n",
              "      <td>27.900</td>\n",
              "      <td>0</td>\n",
              "      <td>yes</td>\n",
              "      <td>southwest</td>\n",
              "      <td>16884.92400</td>\n",
              "    </tr>\n",
              "    <tr>\n",
              "      <th>1</th>\n",
              "      <td>18</td>\n",
              "      <td>male</td>\n",
              "      <td>33.770</td>\n",
              "      <td>1</td>\n",
              "      <td>no</td>\n",
              "      <td>southeast</td>\n",
              "      <td>1725.55230</td>\n",
              "    </tr>\n",
              "    <tr>\n",
              "      <th>2</th>\n",
              "      <td>28</td>\n",
              "      <td>male</td>\n",
              "      <td>33.000</td>\n",
              "      <td>3</td>\n",
              "      <td>no</td>\n",
              "      <td>southeast</td>\n",
              "      <td>4449.46200</td>\n",
              "    </tr>\n",
              "    <tr>\n",
              "      <th>3</th>\n",
              "      <td>33</td>\n",
              "      <td>male</td>\n",
              "      <td>22.705</td>\n",
              "      <td>0</td>\n",
              "      <td>no</td>\n",
              "      <td>northwest</td>\n",
              "      <td>21984.47061</td>\n",
              "    </tr>\n",
              "    <tr>\n",
              "      <th>4</th>\n",
              "      <td>32</td>\n",
              "      <td>male</td>\n",
              "      <td>28.880</td>\n",
              "      <td>0</td>\n",
              "      <td>no</td>\n",
              "      <td>northwest</td>\n",
              "      <td>3866.85520</td>\n",
              "    </tr>\n",
              "    <tr>\n",
              "      <th>...</th>\n",
              "      <td>...</td>\n",
              "      <td>...</td>\n",
              "      <td>...</td>\n",
              "      <td>...</td>\n",
              "      <td>...</td>\n",
              "      <td>...</td>\n",
              "      <td>...</td>\n",
              "    </tr>\n",
              "    <tr>\n",
              "      <th>1333</th>\n",
              "      <td>50</td>\n",
              "      <td>male</td>\n",
              "      <td>30.970</td>\n",
              "      <td>3</td>\n",
              "      <td>no</td>\n",
              "      <td>northwest</td>\n",
              "      <td>10600.54830</td>\n",
              "    </tr>\n",
              "    <tr>\n",
              "      <th>1334</th>\n",
              "      <td>18</td>\n",
              "      <td>female</td>\n",
              "      <td>31.920</td>\n",
              "      <td>0</td>\n",
              "      <td>no</td>\n",
              "      <td>northeast</td>\n",
              "      <td>2205.98080</td>\n",
              "    </tr>\n",
              "    <tr>\n",
              "      <th>1335</th>\n",
              "      <td>18</td>\n",
              "      <td>female</td>\n",
              "      <td>36.850</td>\n",
              "      <td>0</td>\n",
              "      <td>no</td>\n",
              "      <td>southeast</td>\n",
              "      <td>1629.83350</td>\n",
              "    </tr>\n",
              "    <tr>\n",
              "      <th>1336</th>\n",
              "      <td>21</td>\n",
              "      <td>female</td>\n",
              "      <td>25.800</td>\n",
              "      <td>0</td>\n",
              "      <td>no</td>\n",
              "      <td>southwest</td>\n",
              "      <td>2007.94500</td>\n",
              "    </tr>\n",
              "    <tr>\n",
              "      <th>1337</th>\n",
              "      <td>61</td>\n",
              "      <td>female</td>\n",
              "      <td>29.070</td>\n",
              "      <td>0</td>\n",
              "      <td>yes</td>\n",
              "      <td>northwest</td>\n",
              "      <td>29141.36030</td>\n",
              "    </tr>\n",
              "  </tbody>\n",
              "</table>\n",
              "<p>1338 rows × 7 columns</p>\n",
              "</div>"
            ],
            "text/plain": [
              "      age     sex     bmi  children smoker     region      charges\n",
              "0      19  female  27.900         0    yes  southwest  16884.92400\n",
              "1      18    male  33.770         1     no  southeast   1725.55230\n",
              "2      28    male  33.000         3     no  southeast   4449.46200\n",
              "3      33    male  22.705         0     no  northwest  21984.47061\n",
              "4      32    male  28.880         0     no  northwest   3866.85520\n",
              "...   ...     ...     ...       ...    ...        ...          ...\n",
              "1333   50    male  30.970         3     no  northwest  10600.54830\n",
              "1334   18  female  31.920         0     no  northeast   2205.98080\n",
              "1335   18  female  36.850         0     no  southeast   1629.83350\n",
              "1336   21  female  25.800         0     no  southwest   2007.94500\n",
              "1337   61  female  29.070         0    yes  northwest  29141.36030\n",
              "\n",
              "[1338 rows x 7 columns]"
            ]
          },
          "metadata": {},
          "output_type": "display_data"
        },
        {
          "name": "stdout",
          "output_type": "stream",
          "text": [
            "[19 'female' 27.9 0 'yes' 'southwest' 16884.924]\n",
            "[18 'male' 33.77 1 'no' 'southeast' 1725.5523]\n",
            "[28 'male' 33.0 3 'no' 'southeast' 4449.462]\n",
            "(1338, 7)\n"
          ]
        }
      ],
      "source": [
        "data_pandas = pd.read_csv(\"../data/insurance.csv\")\n",
        "display(data_pandas)\n",
        "\n",
        "data = data_pandas.to_numpy()\n",
        "print(data[0]) # index [4] is smoker 'yes'\n",
        "print(data[1]) # index [4] is smoker 'no'\n",
        "print(data[2]) # index [4] is smoker 'no'\n",
        "\n",
        "print(data.shape)"
      ]
    },
    {
      "cell_type": "markdown",
      "metadata": {
        "id": "gA1c0z22XwQD"
      },
      "source": [
        "# 데이터 전처리\n",
        "\n",
        "데이터 처리를 위해서 문자열(\"yes\"/\"no\")을 숫자로 바꿉니다.\n",
        "\n",
        " - 흡연자인 경우 index [4] == \"yes\" -> 1\n",
        "\n",
        " - 비흡연자인 경우 index [4] == \"no\" -> 0\n",
        "\n"
      ]
    },
    {
      "cell_type": "code",
      "execution_count": 8,
      "metadata": {
        "colab": {
          "base_uri": "https://localhost:8080/"
        },
        "id": "_Lbf4IGvUynE",
        "outputId": "9701763a-c32a-4772-97c7-24927910bbec"
      },
      "outputs": [
        {
          "name": "stdout",
          "output_type": "stream",
          "text": [
            "[[19 'female' 27.9 ... 1 'southwest' 16884.924]\n",
            " [18 'male' 33.77 ... 0 'southeast' 1725.5523]\n",
            " [28 'male' 33.0 ... 0 'southeast' 4449.462]\n",
            " ...\n",
            " [18 'female' 36.85 ... 0 'southeast' 1629.8335]\n",
            " [21 'female' 25.8 ... 0 'southwest' 2007.945]\n",
            " [61 'female' 29.07 ... 1 'northwest' 29141.3603]]\n"
          ]
        }
      ],
      "source": [
        "# yes -> 1, no -> 0\n",
        "for i in range(data.shape[0]):\n",
        "  if data[i, 4] == \"yes\":\n",
        "    data[i, 4] = 1\n",
        "  elif data[i, 4] == \"no\":\n",
        "    data[i, 4] = 0\n",
        "\n",
        "print(data)"
      ]
    },
    {
      "cell_type": "markdown",
      "metadata": {
        "id": "8GyayDZ5agDM"
      },
      "source": [
        "또는 LabelEncoder를 통해 편하게 바꿀 수 있습니다."
      ]
    },
    {
      "cell_type": "code",
      "execution_count": 21,
      "metadata": {
        "colab": {
          "base_uri": "https://localhost:8080/"
        },
        "id": "vXD0X6Fzan2A",
        "outputId": "d2c88358-2460-4d0d-b1d5-201316637432"
      },
      "outputs": [
        {
          "name": "stdout",
          "output_type": "stream",
          "text": [
            "      age  sex     bmi  children  smoker  region      charges\n",
            "0      19    0  27.900         0       1       3  16884.92400\n",
            "1      18    1  33.770         1       0       2   1725.55230\n",
            "2      28    1  33.000         3       0       2   4449.46200\n",
            "3      33    1  22.705         0       0       1  21984.47061\n",
            "4      32    1  28.880         0       0       1   3866.85520\n",
            "...   ...  ...     ...       ...     ...     ...          ...\n",
            "1333   50    1  30.970         3       0       1  10600.54830\n",
            "1334   18    0  31.920         0       0       0   2205.98080\n",
            "1335   18    0  36.850         0       0       2   1629.83350\n",
            "1336   21    0  25.800         0       0       3   2007.94500\n",
            "1337   61    0  29.070         0       1       1  29141.36030\n",
            "\n",
            "[1338 rows x 7 columns]\n"
          ]
        }
      ],
      "source": [
        "non_numeric_columns = data_pandas.select_dtypes(exclude=np.number).columns\n",
        "from sklearn.preprocessing import LabelEncoder\n",
        "label_encoder = LabelEncoder()\n",
        "\n",
        "for i in non_numeric_columns:\n",
        "    data_pandas[i] = label_encoder.fit_transform(data_pandas[i])\n",
        "print(data_pandas)"
      ]
    },
    {
      "cell_type": "markdown",
      "metadata": {
        "id": "DQnvx7dlYfWG"
      },
      "source": [
        "학습에 사용할 데이터 0~999 까지의 사람에 대해서 데이터를 추출하고 확인 합니다.\n",
        "\n",
        "- X_train은 보험료\n",
        "- Y_train은 흡연여부"
      ]
    },
    {
      "cell_type": "code",
      "execution_count": 9,
      "metadata": {
        "colab": {
          "base_uri": "https://localhost:8080/",
          "height": 449
        },
        "id": "Bf7EeFANjD4-",
        "outputId": "27561a48-de5c-4954-e485-17666d1d1fa6"
      },
      "outputs": [
        {
          "data": {
            "text/plain": [
              "<matplotlib.collections.PathCollection at 0x7f446adeef50>"
            ]
          },
          "execution_count": 9,
          "metadata": {},
          "output_type": "execute_result"
        },
        {
          "data": {
            "image/png": "[encoded data removed]",
            "text/plain": [
              "<Figure size 640x480 with 1 Axes>"
            ]
          },
          "metadata": {},
          "output_type": "display_data"
        }
      ],
      "source": [
        "X_train = data[:1000, -1].reshape(-1, 1) # X is charges\n",
        "Y_train = data[:1000, 4].astype(\"int\") # Y is smoker\n",
        "\n",
        "plt.scatter(X_train, Y_train)"
      ]
    },
    {
      "cell_type": "markdown",
      "metadata": {
        "id": "12hu3feZoRMA"
      },
      "source": [
        "# 학습 시작\n",
        "\n",
        "위에서 추출한 0~999명의 흡연여부와 보험료 데이터를 `LogisticRegression`에 `fit`함수로 학습을 시킵니다."
      ]
    },
    {
      "cell_type": "code",
      "execution_count": 4,
      "metadata": {
        "colab": {
          "base_uri": "https://localhost:8080/",
          "height": 74
        },
        "id": "viNw_T1embYB",
        "outputId": "fbe2f015-f158-41d7-aeac-2882e99f3a34"
      },
      "outputs": [
        {
          "ename": "NameError",
          "evalue": "name 'X_train' is not defined",
          "output_type": "error",
          "traceback": [
            "\u001b[0;31m---------------------------------------------------------------------------\u001b[0m",
            "\u001b[0;31mNameError\u001b[0m                                 Traceback (most recent call last)",
            "Cell \u001b[0;32mIn[4], line 4\u001b[0m\n\u001b[1;32m      1\u001b[0m \u001b[39mfrom\u001b[39;00m \u001b[39msklearn\u001b[39;00m\u001b[39m.\u001b[39;00m\u001b[39mlinear_model\u001b[39;00m \u001b[39mimport\u001b[39;00m LogisticRegression\n\u001b[1;32m      3\u001b[0m logistic_regression \u001b[39m=\u001b[39m LogisticRegression()\n\u001b[0;32m----> 4\u001b[0m logistic_regression\u001b[39m.\u001b[39mfit(X_train, Y_train)\n",
            "\u001b[0;31mNameError\u001b[0m: name 'X_train' is not defined"
          ]
        }
      ],
      "source": [
        "from sklearn.linear_model import LogisticRegression\n",
        "\n",
        "logistic_regression = LogisticRegression()\n",
        "logistic_regression.fit(X_train, Y_train)"
      ]
    },
    {
      "cell_type": "markdown",
      "metadata": {
        "id": "-qjeBNbxtEkW"
      },
      "source": [
        "# 모델 테스트\n",
        "## 1단계: 테스트 데이터셋을 가져오기\n",
        "학습에 쓰인 데이터셋 1000개를 제외한 나머지 테스트 데이터셋(1000~1338번째 사람)에 대해서 데이터를 추출합니다.\n",
        " - X_test : 보험료\n",
        " - Y_test : 흡연여부\n",
        "\n",
        "## 2단계: 예측치와 정답이 맞는지 비교하기\n",
        "테스트 데이터셋으로 `predict`을 실행하여 정답과 비교합니다.\n",
        "우리는 앞에서 보험료에 따른 흡연 여부를 예측 할 수 있는 로지스틱회귀 모델을 만들었습니다.\n",
        "score 함수를 이용해서 모델의 성능을 평가해볼 수 있습니다."
      ]
    },
    {
      "cell_type": "code",
      "execution_count": 16,
      "metadata": {
        "colab": {
          "base_uri": "https://localhost:8080/",
          "height": 449
        },
        "id": "rGAWSjyTtJp2",
        "outputId": "f9a812d1-8360-4bc8-efd4-f914885a5948"
      },
      "outputs": [
        {
          "name": "stdout",
          "output_type": "stream",
          "text": [
            "score = 0.8994082840236687\n"
          ]
        }
      ],
      "source": [
        "X_test = data[1000:, -1].reshape(-1, 1) # X is charges\n",
        "Y_test = data[1000:, 4].astype(\"int\") # Y is smoker\n",
        "\n",
        "Y_predict = logistic_regression.predict(X_test)\n",
        "score = logistic_regression.score(X_test, Y_test)\n",
        "print(f\"score = {score}\")"
      ]
    }
  ],
  "metadata": {
    "colab": {
      "provenance": []
    },
    "kernelspec": {
      "display_name": "Python 3.11.3 ('.venv': venv)",
      "language": "python",
      "name": "python3"
    },
    "language_info": {
      "codemirror_mode": {
        "name": "ipython",
        "version": 3
      },
      "file_extension": ".py",
      "mimetype": "text/x-python",
      "name": "python",
      "nbconvert_exporter": "python",
      "pygments_lexer": "ipython3",
      "version": "3.11.3"
    },
    "vscode": {
      "interpreter": {
        "hash": "2402d20b18b5ecc8b646c67fbbdeff4ca6ac76bfb47beb09a3e0912bc3b9212b"
      }
    }
  },
  "nbformat": 4,
  "nbformat_minor": 0
}
