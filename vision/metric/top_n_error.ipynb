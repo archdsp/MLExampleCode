{
 "cells": [
  {
   "attachments": {},
   "cell_type": "markdown",
   "metadata": {},
   "source": [
    "# Top-N Accuracy\n",
    "Top-1 Accuracy는 모델이 예측한 결과와 실제 정답이 그냥 맞으면 된다.  \n",
    "Top-N은 확률값이 높은 N개를 순서대로 뽑아서 그 중에 정답이 들어있기만 하면 된다.\n",
    "## Example\n",
    "아래와 같이 모델 결과가 나왔을 때 정답은 물건3이라고 하자. 그랬을 때 Top-1과 Top-2 Accuracy는 0/1 = 0%로지만  \n",
    "Top-3 는 물건3이 어쨌든 들어가있기 때문에 1/1 = 100%가 된다.\n",
    "* 물건1: 0.8\n",
    "* 물건2: 0.7\n",
    "* 물건3: 0.6\n",
    "\n"
   ]
  }
 ],
 "metadata": {
  "language_info": {
   "name": "python"
  },
  "orig_nbformat": 4
 },
 "nbformat": 4,
 "nbformat_minor": 2
}
