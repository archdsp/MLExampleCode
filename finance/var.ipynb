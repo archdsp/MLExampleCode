{
 "cells": [
  {
   "cell_type": "code",
   "execution_count": 6,
   "metadata": {},
   "outputs": [
    {
     "ename": "ImportError",
     "evalue": "cannot import name 'plt' from 'matplotlib.pyplot' (/home/jisu/Workspaces/Projects/elice/.venv/lib/python3.12/site-packages/matplotlib/pyplot.py)",
     "output_type": "error",
     "traceback": [
      "\u001b[0;31m---------------------------------------------------------------------------\u001b[0m",
      "\u001b[0;31mImportError\u001b[0m                               Traceback (most recent call last)",
      "Cell \u001b[0;32mIn[6], line 2\u001b[0m\n\u001b[1;32m      1\u001b[0m \u001b[38;5;28;01mimport\u001b[39;00m \u001b[38;5;21;01mnumpy\u001b[39;00m \u001b[38;5;28;01mas\u001b[39;00m \u001b[38;5;21;01mnp\u001b[39;00m\n\u001b[0;32m----> 2\u001b[0m \u001b[38;5;28;01mfrom\u001b[39;00m \u001b[38;5;21;01mmatplotlib\u001b[39;00m\u001b[38;5;21;01m.\u001b[39;00m\u001b[38;5;21;01mpyplot\u001b[39;00m \u001b[38;5;28;01mimport\u001b[39;00m plt\n\u001b[1;32m      4\u001b[0m S0 \u001b[38;5;241m=\u001b[39m \u001b[38;5;241m100\u001b[39m\n\u001b[1;32m      5\u001b[0m r \u001b[38;5;241m=\u001b[39m \u001b[38;5;241m0.05\u001b[39m\n",
      "\u001b[0;31mImportError\u001b[0m: cannot import name 'plt' from 'matplotlib.pyplot' (/home/jisu/Workspaces/Projects/elice/.venv/lib/python3.12/site-packages/matplotlib/pyplot.py)"
     ]
    }
   ],
   "source": [
    "import numpy as np\n",
    "from matplotlib.pylab import plt\n",
    "\n",
    "S0 = 100\n",
    "r = 0.05\n",
    "sigma = 0.25\n",
    "T = 30 / 365\n",
    "n_simulations = 10000\n",
    "\n",
    "# 시뮬레이션 수행\n",
    "np.random.seed(14)  # 결과 재현성을 위한 시드 고정\n",
    "W = np.random.standard_normal(n_simulations)  # 표준 정규분포에서 난수 생성\n",
    "ST = S0 * np.exp((r - 0.5 * sigma**2) * T + sigma * np.sqrt(T) * W)  # 주가 경로 생성\n",
    "\n",
    "R_gbm = np.sort(ST - S0) # 절대 수익률\n",
    "plt.figure(figsize=(10, 6))\n",
    "plt.hist(R_gbm, bins=50)\n",
    "plt.xlabel(\"absolute return\")\n",
    "plt.ylabel(\"frequency\")"
   ]
  },
  {
   "cell_type": "code",
   "execution_count": 5,
   "metadata": {},
   "outputs": [
    {
     "ename": "NameError",
     "evalue": "name 'R_gbm' is not defined",
     "output_type": "error",
     "traceback": [
      "\u001b[0;31m---------------------------------------------------------------------------\u001b[0m",
      "\u001b[0;31mNameError\u001b[0m                                 Traceback (most recent call last)",
      "Cell \u001b[0;32mIn[5], line 4\u001b[0m\n\u001b[1;32m      1\u001b[0m \u001b[38;5;28;01mimport\u001b[39;00m \u001b[38;5;21;01mscipy\u001b[39;00m\u001b[38;5;21;01m.\u001b[39;00m\u001b[38;5;21;01mstats\u001b[39;00m \u001b[38;5;28;01mas\u001b[39;00m \u001b[38;5;21;01mscs\u001b[39;00m\n\u001b[1;32m      3\u001b[0m percentiles \u001b[38;5;241m=\u001b[39m [\u001b[38;5;241m0.01\u001b[39m, \u001b[38;5;241m0.1\u001b[39m, \u001b[38;5;241m1\u001b[39m, \u001b[38;5;241m2.5\u001b[39m, \u001b[38;5;241m5\u001b[39m, \u001b[38;5;241m10\u001b[39m]\n\u001b[0;32m----> 4\u001b[0m var \u001b[38;5;241m=\u001b[39m scs\u001b[38;5;241m.\u001b[39mscoreatpercentile(\u001b[43mR_gbm\u001b[49m, percentiles)\n\u001b[1;32m      5\u001b[0m \u001b[38;5;28;01mfor\u001b[39;00m  pair \u001b[38;5;129;01min\u001b[39;00m \u001b[38;5;28mzip\u001b[39m (percentiles, var):\n\u001b[1;32m      6\u001b[0m     \u001b[38;5;28mprint\u001b[39m(\u001b[38;5;124mf\u001b[39m\u001b[38;5;124m\"\u001b[39m\u001b[38;5;132;01m{\u001b[39;00m\u001b[38;5;241m100\u001b[39m\u001b[38;5;250m \u001b[39m\u001b[38;5;241m-\u001b[39m\u001b[38;5;250m \u001b[39mpair[\u001b[38;5;241m0\u001b[39m],\u001b[38;5;250m \u001b[39m\u001b[38;5;241m-\u001b[39mpair[\u001b[38;5;241m1\u001b[39m]\u001b[38;5;132;01m}\u001b[39;00m\u001b[38;5;124m\"\u001b[39m)\n",
      "\u001b[0;31mNameError\u001b[0m: name 'R_gbm' is not defined"
     ]
    }
   ],
   "source": [
    "import scipy.stats as scs\n",
    "\n",
    "percentiles = [0.01, 0.1, 1, 2.5, 5, 10]\n",
    "var = scs.scoreatpercentile(R_gbm, percentiles)\n",
    "for  pair in zip (percentiles, var):\n",
    "    print(f\"{100 - pair[0], -pair[1]}\")"
   ]
  }
 ],
 "metadata": {
  "kernelspec": {
   "display_name": ".venv",
   "language": "python",
   "name": "python3"
  },
  "language_info": {
   "codemirror_mode": {
    "name": "ipython",
    "version": 3
   },
   "file_extension": ".py",
   "mimetype": "text/x-python",
   "name": "python",
   "nbconvert_exporter": "python",
   "pygments_lexer": "ipython3",
   "version": "3.12.3"
  }
 },
 "nbformat": 4,
 "nbformat_minor": 2
}
