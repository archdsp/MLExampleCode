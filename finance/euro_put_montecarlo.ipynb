{
 "cells": [
  {
   "cell_type": "code",
   "execution_count": 1,
   "metadata": {},
   "outputs": [
    {
     "name": "stdout",
     "output_type": "stream",
     "text": [
      "유러피안 풋 옵션의 가격: 7.93\n"
     ]
    }
   ],
   "source": [
    "import numpy as np\n",
    "\n",
    "# 파라미터 설정\n",
    "S0 = 100  # 현재 주가\n",
    "K = 105   # 행사가격\n",
    "T = 1.0   # 만기 시간 (1년)\n",
    "r = 0.05  # 무위험 이자율\n",
    "sigma = 0.2  # 변동성\n",
    "n_simulations = 10000  # 시뮬레이션 횟수\n",
    "\n",
    "# 시뮬레이션 수행\n",
    "np.random.seed(14)  # 결과 재현성을 위한 시드 고정\n",
    "W = np.random.standard_normal(n_simulations)  # 표준 정규분포에서 난수 생성\n",
    "ST = S0 * np.exp((r - 0.5 * sigma**2) * T + sigma * np.sqrt(T) * W)  # 주가 경로 생성\n",
    "\n",
    "# 각 시뮬레이션의 페이오프 계산\n",
    "payoff = np.maximum(K - ST, 0)\n",
    "\n",
    "# 무위험 이자율로 할인된 현재 가치 계산\n",
    "option_price = np.exp(-r * T) * np.mean(payoff)\n",
    "\n",
    "print(f\"유러피안 풋 옵션의 가격: {option_price:.2f}\")\n"
   ]
  }
 ],
 "metadata": {
  "kernelspec": {
   "display_name": ".venv",
   "language": "python",
   "name": "python3"
  },
  "language_info": {
   "codemirror_mode": {
    "name": "ipython",
    "version": 3
   },
   "file_extension": ".py",
   "mimetype": "text/x-python",
   "name": "python",
   "nbconvert_exporter": "python",
   "pygments_lexer": "ipython3",
   "version": "3.12.3"
  }
 },
 "nbformat": 4,
 "nbformat_minor": 2
}
