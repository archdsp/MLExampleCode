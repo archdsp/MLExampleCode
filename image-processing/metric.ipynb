{
 "cells": [
  {
   "cell_type": "markdown",
   "metadata": {},
   "source": [
    "# PSNR (Peak Signal to Noise Ratio)\n",
    "원신호대비 얼마나 노이즈가 꼈는지 비율을 나타내는 것이다. MSE는 단순 신호간 차 제곱을 이용해 오차를 계산하기 때문에\n",
    "취득한 신호 센서가 정말 정확하게 재현 가능(정확하게 수집 가능하냐) 하지 않으면 작은 오차들로 센서가 문젠지 실제로 다른 신호인지 알아내기가 어렵다.  \n",
    "정말 너무너무 아예 차이가 나는 것이 아니라면 말이다. \n",
    "\n",
    "그래서 PNSR은 원신호 파워세기와 노이즈가 낀 신호 파워의 비율을 내서 얼마나 다른지를 알아낸다."
   ]
  },
  {
   "cell_type": "markdown",
   "metadata": {},
   "source": [
    "# Structural similarity method (SSIM)\n",
    "그러나 PSNR도 여전히 신호 하나 하나 별로 계산하여 노이즈를 측정하는 방식이라서 여전히 원신호와 노이즈 낀 신호를 구분해내기 어렵다.\n",
    "조도가 바뀌거나 열화가 일어났거나 센서가 좋지 않을 경우 등등 다양한 노이즈에 대해서 MSE나 PSNR이 값이 노이즈 유형별로 동일하게 나올 수 있기 때문에 좀더 세분화해서 계산할 필요하가 있다.\n",
    "SSIM은 픽셀별로 얼만큼 차이나는지를 확인하는 기존의 방식에서 명암, 대비, 구조 세가지 관점에서 측정하여 평가하는 방법이다.\n",
    "\n",
    "structure 같은 경우는 이미지의 standard deviation 값을 이용하여 구한다.\n",
    "아래 상수 C는 분모가 0이 되지 않도록 하는 상수이고 $\\sigma$는 입력신호의 분산을 $\\mu$는 평균을 의미한다.\n",
    "$$structure(x, y) = \\frac{\\sigma_{xy}}{\\sigma_x\\sigma_y + C}$$\n",
    "$$luminance(x, y) = \\frac{2\\mu_{x}\\mu_y}{\\mu_{x}^2 + \\mu_{y}^2 + C}$$\n",
    "$$contrast(x, y) = \\frac{2\\sigma_{x}\\sigma_{y}}{\\sigma_{x}^2 + \\sigma_{y}^2 + C}$$\n",
    "\n",
    "\n",
    "$$SSIM =  luminace(x, y) \\cdot contrast(x, y) \\cdot structure(x, y)$$\n",
    "\n",
    "\n",
    "**[reference]((https://medium.com/srm-mic/all-about-structural-similarity-index-ssim-theory-code-in-pytorch-6551b455541e))**"
   ]
  }
 ],
 "metadata": {
  "language_info": {
   "name": "python"
  },
  "orig_nbformat": 4
 },
 "nbformat": 4,
 "nbformat_minor": 2
}
